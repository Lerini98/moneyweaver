{
 "cells": [
  {
   "cell_type": "code",
   "execution_count": null,
   "metadata": {},
   "outputs": [],
   "source": [
    "URL = f\"{URL_BASE}/{PATH}\"\n",
    "print(URL)"
   ]
  },
  {
   "cell_type": "code",
   "execution_count": null,
   "metadata": {},
   "outputs": [],
   "source": [
    "res = requests.post(URL, headers=headers, data=json.dumps(body))\n",
    "print(res)\n",
    "res.text"
   ]
  },
  {
   "cell_type": "code",
   "execution_count": null,
   "metadata": {},
   "outputs": [],
   "source": [
    "ACCESS_TOKEN = res.json()[\"access_token\"]\n",
    "print(ACCESS_TOKEN)"
   ]
  },
  {
   "cell_type": "code",
   "execution_count": null,
   "metadata": {},
   "outputs": [],
   "source": [
    "import kis_auth_web as ka\n",
    "\n",
    "import pandas as pd\n",
    "import sys\n",
    "\n",
    "#토큰 발급 kis_auth import\n",
    "ka.auth()\n",
    "\n"
   ]
  },
  {
   "cell_type": "markdown",
   "metadata": {},
   "source": []
  },
  {
   "cell_type": "code",
   "execution_count": null,
   "metadata": {},
   "outputs": [],
   "source": [
    "#kis_domstk module 을 찾을 수 없다는 에러가 나는 경우 sys.path에 kis_domstk.py 가 있는 폴더를 추가해준다.\n",
    "import kis_auth as ka\n",
    "import kis_domstk as kb\n",
    "\n",
    "import pandas as pd\n",
    "\n",
    "import sys\n",
    "\n",
    "# 토큰 발급\n",
    "ka.auth()\n",
    "\n",
    "# [국내주식] 기본시세 > 주식현재가 시세 (종목번호 6자리)\n",
    "rt_data = kb.get_inquire_price(itm_no=\"071050\")\n",
    "print(rt_data.stck_prpr+ \" \" + rt_data.prdy_vrss)    # 현재가, 전일대비\n"
   ]
  },
  {
   "cell_type": "code",
   "execution_count": null,
   "metadata": {},
   "outputs": [],
   "source": [
    "#kis_domstk module 을 찾을 수 없다는 에러가 나는 경우 sys.path에 kis_domstk.py 가 있는 폴더를 추가해준다.\n",
    "import kis_auth as ka\n",
    "import kis_domstk as kb\n",
    "\n",
    "import pandas as pd\n",
    "\n",
    "import sys\n",
    "\n",
    "# 토큰 발급\n",
    "ka.auth()\n",
    "\n",
    "# [국내주식] 기본시세 > 주식현재가 당일시간대별체결 (시간대별체결내역)\n",
    "rt_data = kb.get_inquire_time_itemconclusion(output_dv='2', itm_no=\"071050\")  # 기준시각 미지정시 현재시각 이전 체결 내역이 30건 조회됨\n",
    "#rt_data = kb.get_inquire_time_itemconclusion(output_dv='2', itm_no=\"071050\", inqr_hour='100000') # 지정 기준시각 이전 체결 내역이 30건 조회됨\n",
    "print(rt_data)\n"
   ]
  },
  {
   "cell_type": "code",
   "execution_count": null,
   "metadata": {},
   "outputs": [],
   "source": [
    "#kis_domstk module 을 찾을 수 없다는 에러가 나는 경우 sys.path에 kis_domstk.py 가 있는 폴더를 추가해준다.\n",
    "import kis_auth as ka\n",
    "import kis_domstk as kb\n",
    "\n",
    "import pandas as pd\n",
    "\n",
    "import sys\n",
    "\n",
    "# 토큰 발급\n",
    "ka.auth()\n",
    "\n",
    "# [국내주식] 기본시세 > 주식현재가 시세 (종목번호 6자리)\n",
    "rt_data = kb.get_inquire_price(itm_no=\"071050\")\n",
    "print(rt_data.stck_prpr+ \" \" + rt_data.prdy_vrss)    # 현재가, 전일대비\n"
   ]
  },
  {
   "cell_type": "code",
   "execution_count": 1,
   "metadata": {},
   "outputs": [
    {
     "name": "stdout",
     "output_type": "stream",
     "text": [
      "   stck_bsop_date stck_clpr stck_oprc stck_hgpr stck_lwpr acml_vol  \\\n",
      "0        20240802     70700     71900     73000     70000   161438   \n",
      "1        20240801     73000     73200     74700     72300   133213   \n",
      "2        20240731     73200     73000     74000     72500   121516   \n",
      "3        20240730     72400     72700     73700     72200   128901   \n",
      "4        20240729     73400     72400     75000     71800   198895   \n",
      "..            ...       ...       ...       ...       ...      ...   \n",
      "62       20240503     65400     65800     65900     64700    79387   \n",
      "63       20240502     64900     66400     67100     64000   122685   \n",
      "64       20240430     67400     66400     67600     66400    97423   \n",
      "65       20240429     67200     67600     67600     66200    96627   \n",
      "66       20240426     66800     66600     67600     65800    76855   \n",
      "\n",
      "   acml_tr_pbmn flng_cls_code prtt_rate mod_yn prdy_vrss_sign prdy_vrss  \\\n",
      "0   11470229400            00      0.00      N              5     -2300   \n",
      "1    9760673800            00      0.00      N              5      -200   \n",
      "2    8890095100            00      0.00      N              2       800   \n",
      "3    9387045600            00      0.00      N              5     -1000   \n",
      "4   14751700500            00      0.00      N              2      1600   \n",
      "..          ...           ...       ...    ...            ...       ...   \n",
      "62   5167625900            00      0.00      N              2       500   \n",
      "63   7989673100            00      0.00      N              5     -2500   \n",
      "64   6534469000            00      0.00      N              2       200   \n",
      "65   6469281600            00      0.00      N              2       400   \n",
      "66   5158367300            00      0.00      N              2       800   \n",
      "\n",
      "   revl_issu_reas  \n",
      "0                  \n",
      "1                  \n",
      "2                  \n",
      "3                  \n",
      "4                  \n",
      "..            ...  \n",
      "62                 \n",
      "63                 \n",
      "64                 \n",
      "65                 \n",
      "66                 \n",
      "\n",
      "[67 rows x 13 columns]\n"
     ]
    }
   ],
   "source": [
    "#kis_domstk module 을 찾을 수 없다는 에러가 나는 경우 sys.path에 kis_domstk.py 가 있는 폴더를 추가해준다.\n",
    "import kis_auth as ka\n",
    "import kis_domstk as kb\n",
    "\n",
    "import pandas as pd\n",
    "\n",
    "import sys\n",
    "\n",
    "# 토큰 발급\n",
    "ka.auth()\n",
    "\n",
    "# [국내주식] 기본시세 > 국내주식기간별시세(일/주/월/년) (기간별 데이터 Default는 일별이며 조회기간은 100일전(영업일수 아님)부터 금일까지)\n",
    "rt_data = kb.get_inquire_daily_itemchartprice(output_dv=\"2\", itm_no=\"071050\")\n",
    "print(rt_data)"
   ]
  },
  {
   "cell_type": "code",
   "execution_count": 1,
   "metadata": {},
   "outputs": [],
   "source": [
    "#kis_domstk module 을 찾을 수 없다는 에러가 나는 경우 sys.path에 kis_domstk.py 가 있는 폴더를 추가해준다.\n",
    "import kis_auth as ka\n",
    "import kis_domstk as kb\n",
    "import datetime\n",
    "import time\n",
    "import os\n",
    "\n",
    "import pandas as pd\n",
    "\n",
    "import sys\n",
    "\n",
    "# 토큰 발급\n",
    "ka.auth()\n",
    "\n",
    "codes = ['006400', '018260', '022100', '307950', '286940', '272210', '035510', '069960', '005930', '035420', '003550', '034730', '035720', '000660', '030200', '005380', '005490'] # 종목코드\n",
    "dates = [20240801, 20240401, 20231201, 20230801, 20230401, 20221201, 20220801, 20220401, 20211201, 20210801, 20210401, 20201201, 20200801, 20200401, 20191201, 20190801, 20190401, 20181201, 20180801, 20180401, 20171201, 20170801, 20170401, 20161201]\n",
    "lst = []\n",
    "for i in range(len(dates)-1):\n",
    "    for code in codes:\n",
    "        time.sleep(0.6)\n",
    "        # [국내주식] 기본시세 > 국내주식기간별시세(일/주/월/년) (기간별 데이터 Default는 일별이며 조회기간은 100일전(영업일수 아님)부터 금일까지)\n",
    "        rt_data = kb.get_inquire_daily_itemchartprice(output_dv=\"2\",inqr_strt_dt=dates[i+1]+1, inqr_end_dt=dates[i] , itm_no=code)\n",
    "        # print(rt_data)\n",
    "        try:\n",
    "            rt_data.to_csv(\"./dailysource/{code}/{date}.csv\".format(date=dates[i], code = code), index=False, encoding='utf-8-sig')\n",
    "        except:\n",
    "            try:\n",
    "                os.mkdir(\"dailysource\")\n",
    "                os.mkdir(\"./dailysource/{code}\".format(code = code))\n",
    "                rt_data.to_csv(\"./dailysource/{code}/{date}.csv\".format(date=dates[i], code = code), index=False, encoding='utf-8-sig')\n",
    "            except:\n",
    "                os.mkdir(\"./dailysource/{code}\".format(code = code))\n",
    "                rt_data.to_csv(\"./dailysource/{code}/{date}.csv\".format(date=dates[i], code = code), index=False, encoding='utf-8-sig')\n"
   ]
  },
  {
   "cell_type": "markdown",
   "metadata": {},
   "source": [
    "stck_bsop_date: 주식 거래일 (영업일 기준으로 주식이 거래된 날짜)\n",
    "stck_clpr: 종가 (해당 거래일의 주식 마감 가격)\n",
    "stck_oprc: 시가 (해당 거래일의 주식 개장 가격)\n",
    "stck_hgpr: 최고가 (해당 거래일의 주식 최고 가격)\n",
    "stck_lwpr: 최저가 (해당 거래일의 주식 최저 가격)\n",
    "acml_vol: 누적 거래량 (해당 거래일의 주식 거래량)\n",
    "acml_tr_pbmn: 누적 거래대금 (해당 거래일의 주식 거래대금)\n",
    "flng_cls_code: 정리 분류 코드 (해당 거래일의 주식 거래에 대한 특이사항 코드)\n",
    "prtt_rate: 배당률 (해당 주식의 배당률)\n",
    "mod_yn: 수정 여부 (해당 거래 데이터가 수정되었는지 여부)\n",
    "prdy_vrss_sign: 전일 대비 등락 기호 (해당 거래일의 주식 가격이 전일 대비 상승, 하락, 보합인지 나타내는 기호)\n",
    "prdy_vrss: 전일 대비 등락 (해당 거래일의 주식 가격이 전일 대비 얼마나 변동했는지 나타내는 값)\n",
    "revl_issu_reas: 수정발행 사유 (해당 주식 데이터가 수정 발행된 사유)"
   ]
  },
  {
   "cell_type": "code",
   "execution_count": null,
   "metadata": {},
   "outputs": [],
   "source": []
  }
 ],
 "metadata": {
  "kernelspec": {
   "display_name": ".venv",
   "language": "python",
   "name": "python3"
  },
  "language_info": {
   "codemirror_mode": {
    "name": "ipython",
    "version": 3
   },
   "file_extension": ".py",
   "mimetype": "text/x-python",
   "name": "python",
   "nbconvert_exporter": "python",
   "pygments_lexer": "ipython3",
   "version": "3.12.4"
  }
 },
 "nbformat": 4,
 "nbformat_minor": 2
}
