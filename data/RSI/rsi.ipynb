{
 "cells": [
  {
   "cell_type": "code",
   "execution_count": null,
   "metadata": {},
   "outputs": [],
   "source": [
    "import pandas as pd\n",
    "\n",
    "test = pd.read_csv(\"./dailysource/000660/20210401.csv\")\n",
    "\n",
    "test_drop = test[[\"stck_clpr\"]] # 종가만 추출\n",
    "\n",
    "test_reverse = test_drop.loc[::-1]\n",
    "\n",
    "print(test_drop)\n",
    "print(test_reverse)"
   ]
  },
  {
   "cell_type": "code",
   "execution_count": null,
   "metadata": {},
   "outputs": [],
   "source": [
    "retract_test_lst = []\n",
    "\n",
    "for i in range(len(test_drop)-1):\n",
    "    retract_drop = test_drop[\"stck_clpr\"][i] - test_drop[\"stck_clpr\"][i+1]\n",
    "    retract_test_lst.append(retract_drop)\n",
    "\n",
    "print(retract_test_lst)"
   ]
  },
  {
   "cell_type": "code",
   "execution_count": null,
   "metadata": {},
   "outputs": [],
   "source": [
    "U = []\n",
    "D = []\n",
    "\n",
    "for i in retract_test_lst:\n",
    "    if i > 0:\n",
    "        U.append(i)\n",
    "    else:\n",
    "        U.append(0)\n",
    "\n",
    "\n",
    "for j in retract_test_lst:\n",
    "    if j < 0:\n",
    "        D.append(j)\n",
    "    else:\n",
    "        D.append(0)\n",
    "\n",
    "print(retract_test_lst\n",
    "      )\n",
    "print(U)\n",
    "print(D)\n",
    "print(len(U), len(D))"
   ]
  },
  {
   "cell_type": "code",
   "execution_count": 1,
   "metadata": {},
   "outputs": [],
   "source": [
    "import pandas as pd\n",
    "import os\n",
    "\n",
    "dates = [\"20210801\", \"20211201\", \"20220401\", \"20220801\", \"20221201\", \"20230401\", \"20230801\", \"20231201\", \"20240401\", \"20240801\"]\n",
    "codes = ['006400', '018260', '022100', '307950', '286940', '272210', '035510', '069960', '005930', '035420', '003550', '034730', '035720', '000660', '030200', '005380', '005490'] # 종목코드\n",
    "\n",
    "\n",
    "\n",
    "for ticker in codes:\n",
    "    retract_test_lst = pd.DataFrame()\n",
    "    for date in dates:\n",
    "        test = pd.read_csv(\"./dailysource/{ticker}/{date}.csv\".format(ticker = ticker, date = date))\n",
    "        retract_test_lst = pd.concat([retract_test_lst, test], ignore_index=True)\n",
    "\n",
    "# print(retract_test_lst)\n",
    "\n",
    "    df_sorted = retract_test_lst.sort_values(by='stck_bsop_date', ascending=False)\n",
    "    try:\n",
    "        df_sorted.to_csv(\"./dailysource/{ticker}.csv\".format(ticker = ticker), index=False)\n",
    "    except:\n",
    "        os.mkdir(\"./dailysource/\")\n",
    "        df_sorted.to_csv(\"./dailysource/{ticker}.csv\".format(ticker = ticker), index=False)\n",
    "\n",
    "# for i in range(len(test_drop)-1):\n",
    "#     retract_drop = test_drop[\"stck_clpr\"][i] - test_drop[\"stck_clpr\"][i+1]\n",
    "#     retract_test_lst.append(retract_drop)\n",
    "\n",
    "# print(retract_test_lst)"
   ]
  },
  {
   "cell_type": "code",
   "execution_count": null,
   "metadata": {},
   "outputs": [],
   "source": [
    "# csv 불러와서 합친 뒤 저장하기"
   ]
  },
  {
   "cell_type": "code",
   "execution_count": null,
   "metadata": {},
   "outputs": [],
   "source": []
  },
  {
   "cell_type": "code",
   "execution_count": null,
   "metadata": {},
   "outputs": [],
   "source": []
  },
  {
   "cell_type": "code",
   "execution_count": null,
   "metadata": {},
   "outputs": [],
   "source": [
    "AU = sum(U)/len(U)\n",
    "AD = abs(sum(D))/len(D)\n",
    "\n",
    "print(AU, AD)"
   ]
  },
  {
   "cell_type": "code",
   "execution_count": null,
   "metadata": {},
   "outputs": [],
   "source": [
    "RS = AU/AD\n",
    "print(RS)"
   ]
  },
  {
   "cell_type": "code",
   "execution_count": null,
   "metadata": {},
   "outputs": [],
   "source": [
    "RSI = AU/(AU+AD) \n",
    "RSI2= RS/(1+RS)\n",
    "print(RSI)\n",
    "print(RSI2)"
   ]
  },
  {
   "cell_type": "code",
   "execution_count": null,
   "metadata": {},
   "outputs": [],
   "source": []
  }
 ],
 "metadata": {
  "kernelspec": {
   "display_name": ".venv",
   "language": "python",
   "name": "python3"
  },
  "language_info": {
   "codemirror_mode": {
    "name": "ipython",
    "version": 3
   },
   "file_extension": ".py",
   "mimetype": "text/x-python",
   "name": "python",
   "nbconvert_exporter": "python",
   "pygments_lexer": "ipython3",
   "version": "3.12.4"
  }
 },
 "nbformat": 4,
 "nbformat_minor": 2
}
