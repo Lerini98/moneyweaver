{
 "cells": [
  {
   "cell_type": "code",
   "execution_count": 4,
   "metadata": {},
   "outputs": [
    {
     "name": "stdout",
     "output_type": "stream",
     "text": [
      "                  RSI  Stochastic RSI\n",
      "Date                                 \n",
      "2020-01-02        NaN             NaN\n",
      "2020-01-03        NaN             NaN\n",
      "2020-01-06        NaN             NaN\n",
      "2020-01-07        NaN             NaN\n",
      "2020-01-08        NaN             NaN\n",
      "...               ...             ...\n",
      "2024-07-26  30.994152        0.012343\n",
      "2024-07-29  30.588235        0.006208\n",
      "2024-07-30  30.232558        0.000832\n",
      "2024-07-31  40.703518        0.240853\n",
      "2024-08-01  46.285714        0.368583\n",
      "\n",
      "[1132 rows x 2 columns]\n"
     ]
    }
   ],
   "source": [
    "import pandas as pd\n",
    "import numpy as np\n",
    "import FinanceDataReader as fdr\n",
    "\n",
    "def calculate_rsi(data, window=14):\n",
    "    delta = data['Close'].diff(1)\n",
    "    gain = delta.where(delta > 0, 0)\n",
    "    loss = -delta.where(delta < 0, 0)\n",
    "\n",
    "    avg_gain = gain.rolling(window=window).mean()\n",
    "    avg_loss = loss.rolling(window=window).mean()\n",
    "\n",
    "    rs = avg_gain / avg_loss\n",
    "    rsi = 100 - (100 / (1 + rs))\n",
    "\n",
    "    return rsi\n",
    "\n",
    "def calculate_stochastic_rsi(data, window=14):\n",
    "    rsi = calculate_rsi(data, window)\n",
    "    stoch_rsi = (rsi - rsi.rolling(window=window).min()) / (rsi.rolling(window=window).max() - rsi.rolling(window=window).min())\n",
    "    return stoch_rsi\n",
    "\n",
    "def get_stock_data(ticker, start_date, end_date):\n",
    "    stock_data = fdr.DataReader(ticker, start_date, end_date)\n",
    "    return stock_data\n",
    "\n",
    "def main(ticker, start_date, end_date, rsi_window=14, stoch_rsi_window=14):\n",
    "    data = get_stock_data(ticker, start_date, end_date)\n",
    "    \n",
    "    data['RSI'] = calculate_rsi(data, rsi_window)\n",
    "    data['Stochastic RSI'] = calculate_stochastic_rsi(data, stoch_rsi_window)\n",
    "    \n",
    "    return data\n",
    "\n",
    "# 예시 사용법\n",
    "ticker = '005930'  # 삼성전자 종목 코드\n",
    "start_date = '2020-01-01'\n",
    "end_date = '2024-08-01'\n",
    "\n",
    "stock_data = main(ticker, start_date, end_date)\n",
    "print(stock_data[['RSI', 'Stochastic RSI']])\n",
    "stock_data.to_csv(\"./test.csv\")\n"
   ]
  }
 ],
 "metadata": {
  "kernelspec": {
   "display_name": ".venv",
   "language": "python",
   "name": "python3"
  },
  "language_info": {
   "codemirror_mode": {
    "name": "ipython",
    "version": 3
   },
   "file_extension": ".py",
   "mimetype": "text/x-python",
   "name": "python",
   "nbconvert_exporter": "python",
   "pygments_lexer": "ipython3",
   "version": "3.12.4"
  }
 },
 "nbformat": 4,
 "nbformat_minor": 2
}
